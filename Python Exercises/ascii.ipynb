{
 "cells": [
  {
   "cell_type": "code",
   "execution_count": 4,
   "metadata": {},
   "outputs": [],
   "source": [
    "#Encode and decode string\n",
    "\n",
    "def encodeString(stringVal):\n",
    " \n",
    " myStrA = tuple(sorted(set(stringVal)))\n",
    " res = []\n",
    " \n",
    " for i in myStrA:   \n",
    "   strCount = stringVal.count(i)\n",
    "   itemI = i*1\n",
    "   res.append((itemI, strCount))\n",
    " print(res)"
   ]
  },
  {
   "cell_type": "code",
   "execution_count": 5,
   "metadata": {},
   "outputs": [],
   "source": [
    "def decodeString (encodedList):\n",
    " myStrB = ''\n",
    " for j in encodedList:\n",
    "        myStrB = myStrB + j[0] * j[1]\n",
    " print(myStrB)"
   ]
  },
  {
   "cell_type": "code",
   "execution_count": 10,
   "metadata": {},
   "outputs": [
    {
     "name": "stdout",
     "output_type": "stream",
     "text": [
      "[('A', 2), ('B', 2), ('C', 2)]\n"
     ]
    }
   ],
   "source": [
    "encodeString('AABBCC')"
   ]
  },
  {
   "cell_type": "code",
   "execution_count": 11,
   "metadata": {},
   "outputs": [
    {
     "name": "stdout",
     "output_type": "stream",
     "text": [
      "AABBCC\n"
     ]
    }
   ],
   "source": [
    "decodeString([('A', 2), ('B', 2), ('C', 2)])"
   ]
  }
 ],
 "metadata": {
  "kernelspec": {
   "display_name": "Python 3",
   "language": "python",
   "name": "python3"
  },
  "language_info": {
   "codemirror_mode": {
    "name": "ipython",
    "version": 3
   },
   "file_extension": ".py",
   "mimetype": "text/x-python",
   "name": "python",
   "nbconvert_exporter": "python",
   "pygments_lexer": "ipython3",
   "version": "3.12.1"
  }
 },
 "nbformat": 4,
 "nbformat_minor": 2
}
