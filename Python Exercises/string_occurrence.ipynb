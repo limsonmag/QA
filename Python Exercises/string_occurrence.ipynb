{
 "cells": [
  {
   "cell_type": "code",
   "execution_count": 1,
   "metadata": {},
   "outputs": [
    {
     "name": "stdout",
     "output_type": "stream",
     "text": [
      "{'same': 2, 'words': 2, 'not': 2}\n",
      "The word \"same\" occurred 2 times.\n",
      "The word \"words\" occurred 2 times.\n",
      "The word \"not\" occurred 2 times.\n"
     ]
    }
   ],
   "source": [
    "#Get the number of times a word occurs in a sentence.\n",
    "\n",
    "def string_occurence(sentence):\n",
    "    a = {}\n",
    "    b = list(sentence.split())\n",
    "    \n",
    "    for i in b:\n",
    "        c = b.count(i)\n",
    "        if c > 1:\n",
    "            a.update({i : c}) #Enter key, value in the dictionary a\n",
    "   \n",
    "    print(a)\n",
    "    \n",
    "    for word, word_count in a.items():\n",
    "        if word_count > 1:\n",
    "            print(f'The word \"{word}\" occurred {word_count} times.')\n",
    "\n",
    "string_occurence('The same words same words are not repeating not repeating.')    "
   ]
  },
  {
   "cell_type": "code",
   "execution_count": 2,
   "metadata": {},
   "outputs": [
    {
     "name": "stdout",
     "output_type": "stream",
     "text": [
      "{'sentence': 2, 'not': 1, 'the': 1, 'same': 3}\n",
      "The word \"sentence\" occurred 2 times.\n",
      "The word \"same\" occurred 3 times.\n"
     ]
    }
   ],
   "source": [
    "def string_occurence(sentence):\n",
    "    a = {}\n",
    "    b = list(sentence.split())\n",
    "    \n",
    "    for i in b:\n",
    "        if not i in a: #Used the if not statement.\n",
    "            a[i] = 1\n",
    "        else:\n",
    "            a[i] += 1\n",
    "        \n",
    "    print(a)\n",
    "    \n",
    "    for word, word_count in a.items():\n",
    "        if word_count > 1:\n",
    "            print(f'The word \"{word}\" occurred {word_count} times.')\n",
    "      \n",
    "string_occurence('sentence sentence not the same same same')     "
   ]
  }
 ],
 "metadata": {
  "kernelspec": {
   "display_name": "Python 3",
   "language": "python",
   "name": "python3"
  },
  "language_info": {
   "codemirror_mode": {
    "name": "ipython",
    "version": 3
   },
   "file_extension": ".py",
   "mimetype": "text/x-python",
   "name": "python",
   "nbconvert_exporter": "python",
   "pygments_lexer": "ipython3",
   "version": "3.12.5"
  }
 },
 "nbformat": 4,
 "nbformat_minor": 2
}
