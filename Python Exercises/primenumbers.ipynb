{
 "cells": [
  {
   "cell_type": "code",
   "execution_count": 7,
   "metadata": {},
   "outputs": [],
   "source": [
    "#Determine if entered number is a prime number.\n",
    "def primeNum(numPrm):\n",
    "\n",
    "    prmNumYes = True\n",
    "    prmNumList = []\n",
    "    prmNumList.insert(0,2)\n",
    "\n",
    "    #Check if remainder value is zero.\n",
    "    for i in range(2,numPrm): \n",
    "        if i < numPrm:\n",
    "            a = numPrm % i\n",
    "            \n",
    "            if a == 0:\n",
    "             prmNumYes is False  \n",
    "            else:\n",
    "             prmNumYes is True\n",
    "        prmNumList.append(a)\n",
    "    #print(prmNumList)\n",
    "\n",
    "    #Validate if there is a zero.\n",
    "    j = 0\n",
    "    if j in prmNumList:\n",
    "        print(f\"{numPrm} is not a prime number\")\n",
    "    else:\n",
    "        print(f\"{numPrm} is a prime number!\")"
   ]
  },
  {
   "cell_type": "code",
   "execution_count": 8,
   "metadata": {},
   "outputs": [
    {
     "name": "stdout",
     "output_type": "stream",
     "text": [
      "23 is a prime number!\n"
     ]
    }
   ],
   "source": [
    "primeNum(23)"
   ]
  },
  {
   "cell_type": "code",
   "execution_count": 4,
   "metadata": {},
   "outputs": [
    {
     "name": "stdout",
     "output_type": "stream",
     "text": [
      "[2, 1, 1, 1, 0, 1, 4, 1, 7, 5, 3, 1, 12, 11, 10, 9, 8, 7, 6, 5, 4, 3, 2, 1]\n",
      "25 is not a prime number\n"
     ]
    }
   ],
   "source": [
    "primeNum(25)"
   ]
  }
 ],
 "metadata": {
  "kernelspec": {
   "display_name": "Python 3",
   "language": "python",
   "name": "python3"
  },
  "language_info": {
   "codemirror_mode": {
    "name": "ipython",
    "version": 3
   },
   "file_extension": ".py",
   "mimetype": "text/x-python",
   "name": "python",
   "nbconvert_exporter": "python",
   "pygments_lexer": "ipython3",
   "version": "3.12.1"
  }
 },
 "nbformat": 4,
 "nbformat_minor": 2
}
