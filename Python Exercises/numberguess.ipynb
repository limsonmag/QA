{
 "cells": [
  {
   "cell_type": "code",
   "execution_count": 4,
   "metadata": {},
   "outputs": [
    {
     "name": "stdout",
     "output_type": "stream",
     "text": [
      "Your guess is too low. Try again.\n",
      "Your guess is too low. Try again.\n",
      "Your guess is too high.\n",
      "Your guess is too high.\n",
      "Your guess is too high.\n",
      "You guessed it right! 5 is the lucky number!\n"
     ]
    }
   ],
   "source": [
    "#Without limit. Must be able to guess before the programs exits\n",
    "import random\n",
    "\n",
    "i = random.randint(0,10) #Guess from 0 to 10.\n",
    "#print(f\"{i} is the lucky number.\")\n",
    "\n",
    "while True:\n",
    "    \n",
    "    ans = input(\"Take a guess! Enter a number.\")\n",
    "    a = int(ans)    \n",
    "    \n",
    "    if a == i:\n",
    "        print(f\"You guessed it right! {ans} is the lucky number!\")\n",
    "        break   \n",
    "    elif a < i:\n",
    "        print(f\"Your guess is too low. Try again.\")\n",
    "    elif a > i:\n",
    "        print(f\"Your guess is too high.\")"
   ]
  },
  {
   "cell_type": "code",
   "execution_count": 2,
   "metadata": {},
   "outputs": [
    {
     "name": "stdout",
     "output_type": "stream",
     "text": [
      "1 is the lucky number.\n",
      "Your guess (8) is too high.\n",
      "Your guess (9) is too high.\n",
      "You guessed it right! 1 is the luck number!\n"
     ]
    }
   ],
   "source": [
    "#With number of tries limit.\n",
    "\n",
    "import random\n",
    "\n",
    "i = random.randint(0,5) #Guess from 0 to 5.)\n",
    "#print(f\"{i} is the lucky number.\")\n",
    "    \n",
    "for j in range(1,4):\n",
    "    ans = input(\"Take a guess! Enter a number.\")\n",
    "    a = int(ans)\n",
    "            \n",
    "    if a == i:\n",
    "        print(f\"You guessed it right! {ans} is the lucky number!\")\n",
    "        break\n",
    "    if a < i:\n",
    "        print(f\"Your guess ({ans}) is too low.\")\n",
    "        if j == 3:\n",
    "            print('Sorry. You have exceeded the number of tries.')       \n",
    "    if a > i:\n",
    "        print(f\"Your guess ({ans}) is too high.\")\n",
    "        if j == 3:\n",
    "            print('Sorry. You have exceeded the number of tries.')"
   ]
  }
 ],
 "metadata": {
  "kernelspec": {
   "display_name": "Python 3",
   "language": "python",
   "name": "python3"
  },
  "language_info": {
   "codemirror_mode": {
    "name": "ipython",
    "version": 3
   },
   "file_extension": ".py",
   "mimetype": "text/x-python",
   "name": "python",
   "nbconvert_exporter": "python",
   "pygments_lexer": "ipython3",
   "version": "3.12.1"
  }
 },
 "nbformat": 4,
 "nbformat_minor": 2
}
