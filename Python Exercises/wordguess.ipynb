{
 "cells": [
  {
   "cell_type": "code",
   "execution_count": 11,
   "metadata": {},
   "outputs": [
    {
     "name": "stdout",
     "output_type": "stream",
     "text": [
      "The word you guessed (AI) is correct. Replacing Humans??\n"
     ]
    }
   ],
   "source": [
    "#Word guessing game. \n",
    "\n",
    "random_words = {\n",
    "    'git': 'Fun stuff!',\n",
    "    'ai': 'Replacing humans??',\n",
    "    'python': 'Exciting!',\n",
    "}\n",
    "\n",
    "a = input('Guess an IT-related word.\\n')    \n",
    "\n",
    "w = str(a.lower())\n",
    "x = []\n",
    "x.insert(0,w) #Insert input w to x list.\n",
    "\n",
    "#List of words to guess. \n",
    "guess = ['python', 'ai', 'bitbucket'] \n",
    "\n",
    "#If word from user is in the guess list[], check the random_words dictionary.\n",
    "#If dictionary word exists, print message that the guessed word is correct.\n",
    "if x[0] in guess[0:]: \n",
    "    for i in random_words.keys(): \n",
    "        while i in guess: \n",
    "            if i in x[0]: \n",
    "                wrdguessed = random_words[i] \n",
    "                print(f'The word you guessed ({str(w.upper())}) is correct. {str(wrdguessed.title())}') \n",
    "            break\n",
    "else: \n",
    "    print(f'Sorry. {w} is incorrect.')"
   ]
  }
 ],
 "metadata": {
  "kernelspec": {
   "display_name": "Python 3",
   "language": "python",
   "name": "python3"
  },
  "language_info": {
   "codemirror_mode": {
    "name": "ipython",
    "version": 3
   },
   "file_extension": ".py",
   "mimetype": "text/x-python",
   "name": "python",
   "nbconvert_exporter": "python",
   "pygments_lexer": "ipython3",
   "version": "3.12.1"
  }
 },
 "nbformat": 4,
 "nbformat_minor": 2
}
