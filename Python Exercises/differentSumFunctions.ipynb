{
 "cells": [
  {
   "cell_type": "code",
   "execution_count": 68,
   "metadata": {},
   "outputs": [],
   "source": [
    "#Sum function with one argument.\n",
    "\n",
    "def mysum(num):\n",
    "\n",
    "    numset_convert_str = str(num) #Convert given number to string\n",
    "    numlist = [] #List\n",
    "       \n",
    "    for i in numset_convert_str: \n",
    "      str_convert_int = int(i)   #Convert the string to integer   \n",
    "      numlist.append(str_convert_int)\n",
    "      \n",
    "      sum = 0\n",
    "      for j in numlist: #Iterate over the numlist.\n",
    "        sum = sum + j #Add the integers in the numList.\n",
    "    print(sum)"
   ]
  },
  {
   "cell_type": "code",
   "execution_count": 69,
   "metadata": {},
   "outputs": [
    {
     "name": "stdout",
     "output_type": "stream",
     "text": [
      "24\n"
     ]
    }
   ],
   "source": [
    "mysum(789)"
   ]
  },
  {
   "cell_type": "code",
   "execution_count": 70,
   "metadata": {},
   "outputs": [],
   "source": [
    "#Sum function with 2 arguments.\n",
    "def mysum2(numset1, numset2):\n",
    "   \n",
    "   numset_convert_str = str(numset1)\n",
    "   int(numset2)\n",
    "   \n",
    "   numset1_list = []\n",
    "      \n",
    "   for i in numset_convert_str: \n",
    "      str_convert_int = int(i)      \n",
    "      numset1_list.append(str_convert_int)\n",
    "      \n",
    "      sum = 0\n",
    "      for j in numset1_list:\n",
    "        sum = sum + j\n",
    "\n",
    "   numset_sum = sum + numset2\n",
    "   print(numset_sum)"
   ]
  },
  {
   "cell_type": "code",
   "execution_count": 73,
   "metadata": {},
   "outputs": [
    {
     "name": "stdout",
     "output_type": "stream",
     "text": [
      "22\n"
     ]
    }
   ],
   "source": [
    "mysum2(278, 5)"
   ]
  }
 ],
 "metadata": {
  "kernelspec": {
   "display_name": "Python 3",
   "language": "python",
   "name": "python3"
  },
  "language_info": {
   "codemirror_mode": {
    "name": "ipython",
    "version": 3
   },
   "file_extension": ".py",
   "mimetype": "text/x-python",
   "name": "python",
   "nbconvert_exporter": "python",
   "pygments_lexer": "ipython3",
   "version": "3.12.1"
  }
 },
 "nbformat": 4,
 "nbformat_minor": 2
}
