{
 "cells": [
  {
   "cell_type": "code",
   "execution_count": 1,
   "metadata": {},
   "outputs": [],
   "source": [
    "#Sum function without using sum().\n",
    "\n",
    "def mysum(num):\n",
    "\n",
    "    numset_convert_str = str(num) #Convert given number to string\n",
    "    numlist = [] #List\n",
    "       \n",
    "    for i in numset_convert_str: \n",
    "      str_convert_int = int(i)   #Convert the string to integer   \n",
    "      numlist.append(str_convert_int)\n",
    "      \n",
    "      sum = 0\n",
    "      for j in numlist: #Iterate over the numlist.\n",
    "        sum = sum + j #Add the integers in the numList.\n",
    "    print(sum)"
   ]
  },
  {
   "cell_type": "code",
   "execution_count": 3,
   "metadata": {},
   "outputs": [
    {
     "name": "stdout",
     "output_type": "stream",
     "text": [
      "12\n"
     ]
    }
   ],
   "source": [
    "mysum(183)"
   ]
  }
 ],
 "metadata": {
  "kernelspec": {
   "display_name": "Python 3",
   "language": "python",
   "name": "python3"
  },
  "language_info": {
   "codemirror_mode": {
    "name": "ipython",
    "version": 3
   },
   "file_extension": ".py",
   "mimetype": "text/x-python",
   "name": "python",
   "nbconvert_exporter": "python",
   "pygments_lexer": "ipython3",
   "version": "3.12.1"
  }
 },
 "nbformat": 4,
 "nbformat_minor": 2
}
