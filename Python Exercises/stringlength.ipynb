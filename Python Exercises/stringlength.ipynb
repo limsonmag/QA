{
 "cells": [
  {
   "cell_type": "code",
   "execution_count": 157,
   "metadata": {},
   "outputs": [],
   "source": [
    "#Display string length for each string.\n",
    "#Find highest string length.\n",
    "\n",
    "def strlength(str1, str2, str3):\n",
    "    \n",
    "    a = str1, str2, str3\n",
    "    c = tuple(a)\n",
    "    print(c)\n",
    "    \n",
    "    str_len = []\n",
    "    for i in c:\n",
    "        a = len(i)                       \n",
    "        str_len.insert(0, a)\n",
    "        str_len.sort()\n",
    "    print(str_len)\n",
    "    print(str_len[-1])"
   ]
  },
  {
   "cell_type": "code",
   "execution_count": 158,
   "metadata": {},
   "outputs": [
    {
     "name": "stdout",
     "output_type": "stream",
     "text": [
      "('python', 'automation', 'qa')\n",
      "[2, 6, 10]\n",
      "10\n"
     ]
    }
   ],
   "source": [
    "strlength('python', 'automation', 'qa')"
   ]
  },
  {
   "cell_type": "code",
   "execution_count": 161,
   "metadata": {},
   "outputs": [],
   "source": [
    "#Display string length for each string.\n",
    "#Find highest string length.\n",
    "\n",
    "def strlength(str1, str2, str3):\n",
    "    \n",
    "    a = str1, str2, str3\n",
    "    b = tuple(a)\n",
    "    print(b)\n",
    "    \n",
    "    str_list = []\n",
    "    str_len = []\n",
    "    for i in b:\n",
    "        str_list.append(i)\n",
    "        c = len(i)                \n",
    "        str_list.append(c)\n",
    "        str_len.append(c)\n",
    "        str_len.sort()\n",
    "\n",
    "    print(str_list)\n",
    "    print(f'The longest string length is {str_len[-1]}.')"
   ]
  },
  {
   "cell_type": "code",
   "execution_count": 162,
   "metadata": {},
   "outputs": [
    {
     "name": "stdout",
     "output_type": "stream",
     "text": [
      "('test', 'python', 'qa')\n",
      "['test', 4, 'python', 6, 'qa', 2]\n",
      "The longest string length is 6.\n"
     ]
    }
   ],
   "source": [
    "strlength('test', 'python', 'qa')"
   ]
  }
 ],
 "metadata": {
  "kernelspec": {
   "display_name": "Python 3",
   "language": "python",
   "name": "python3"
  },
  "language_info": {
   "codemirror_mode": {
    "name": "ipython",
    "version": 3
   },
   "file_extension": ".py",
   "mimetype": "text/x-python",
   "name": "python",
   "nbconvert_exporter": "python",
   "pygments_lexer": "ipython3",
   "version": "3.12.1"
  }
 },
 "nbformat": 4,
 "nbformat_minor": 2
}
