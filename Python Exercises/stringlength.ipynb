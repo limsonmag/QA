{
 "cells": [
  {
   "cell_type": "code",
   "execution_count": 1,
   "metadata": {},
   "outputs": [],
   "source": [
    "#Display string length for each string.\n",
    "#Find maximum string length.\n",
    "\n",
    "def strlength(str1, str2, str3):\n",
    "    \n",
    "    a = str1, str2, str3\n",
    "    c = tuple(a)\n",
    "    print(c)\n",
    "    \n",
    "    str_len = []\n",
    "    for i in c:\n",
    "        a = len(i)                       \n",
    "        str_len.insert(0, a)\n",
    "        str_len.sort()\n",
    "    print(str_len)\n",
    "    print(str_len[-1])"
   ]
  },
  {
   "cell_type": "code",
   "execution_count": 2,
   "metadata": {},
   "outputs": [
    {
     "name": "stdout",
     "output_type": "stream",
     "text": [
      "('test', 'python', 'qa')\n",
      "[2, 4, 6]\n",
      "6\n"
     ]
    }
   ],
   "source": [
    "strlength('test', 'python', 'qa')"
   ]
  }
 ],
 "metadata": {
  "kernelspec": {
   "display_name": "Python 3",
   "language": "python",
   "name": "python3"
  },
  "language_info": {
   "codemirror_mode": {
    "name": "ipython",
    "version": 3
   },
   "file_extension": ".py",
   "mimetype": "text/x-python",
   "name": "python",
   "nbconvert_exporter": "python",
   "pygments_lexer": "ipython3",
   "version": "3.12.1"
  }
 },
 "nbformat": 4,
 "nbformat_minor": 2
}
