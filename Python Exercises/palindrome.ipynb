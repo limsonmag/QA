{
 "cells": [
  {
   "cell_type": "code",
   "execution_count": 1,
   "metadata": {},
   "outputs": [],
   "source": [
    "def palindrome(strVal):\n",
    "\n",
    "    j = []\n",
    "    k = []\n",
    "    for i in reversed(strVal[0:].casefold()):\n",
    "        j.append(i)\n",
    "    for l in strVal[0:].casefold():\n",
    "        k.append(l)\n",
    "    \n",
    "    print('Original input: ' + strVal)\n",
    "    print('Reversed output: ' + str(j))\n",
    "    \n",
    "    if k == j:\n",
    "         print('Your string is a palindrome!')\n",
    "\n",
    "    else:\n",
    "         print('Your string is not a palindrome!')"
   ]
  },
  {
   "cell_type": "code",
   "execution_count": 2,
   "metadata": {},
   "outputs": [
    {
     "name": "stdout",
     "output_type": "stream",
     "text": [
      "Original input: madam\n",
      "Reversed output: ['m', 'a', 'd', 'a', 'm']\n",
      "Your string is a palindrome!\n"
     ]
    }
   ],
   "source": [
    "palindrome('madam')"
   ]
  }
 ],
 "metadata": {
  "kernelspec": {
   "display_name": "Python 3",
   "language": "python",
   "name": "python3"
  },
  "language_info": {
   "codemirror_mode": {
    "name": "ipython",
    "version": 3
   },
   "file_extension": ".py",
   "mimetype": "text/x-python",
   "name": "python",
   "nbconvert_exporter": "python",
   "pygments_lexer": "ipython3",
   "version": "3.12.1"
  }
 },
 "nbformat": 4,
 "nbformat_minor": 2
}
